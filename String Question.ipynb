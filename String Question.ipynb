{
 "cells": [
  {
   "cell_type": "markdown",
   "metadata": {},
   "source": [
    "<h2>Pentagon Space</h2>\n",
    "<div id=\"myCarousel\" class=\"carousel slide text-center\" data-ride=\"carousel\">\n",
    "  <!-- Indicators -->\n",
    "  <ol class=\"carousel-indicators\">\n",
    "    <li data-target=\"#myCarousel\" data-slide-to=\"0\" class=\"active\"></li>\n",
    "    <li data-target=\"#myCarousel\" data-slide-to=\"1\"></li>\n",
    "    <li data-target=\"#myCarousel\" data-slide-to=\"2\"></li>\n",
    "  </ol>\n",
    "\n",
    "\n",
    "  <div class=\"carousel-inner\" role=\"listbox\">\n",
    "    <div class=\"item active\">\n",
    "    <h4>String Question</span></h4>\n",
    "    </div>\n",
    "    \n",
    "  </div>\n",
    "\n",
    "  <!-- Left and right controls -->\n",
    "  <a class=\"left carousel-control\" href=\"#myCarousel\" role=\"button\" data-slide=\"prev\">\n",
    "    <span class=\"glyphicon glyphicon-chevron-left\" aria-hidden=\"true\"></span>\n",
    "    <span class=\"sr-only\">Previous</span>\n",
    "  </a>\n",
    "  <a class=\"right carousel-control\" href=\"#myCarousel\" role=\"button\" data-slide=\"next\">\n",
    "    <span class=\"glyphicon glyphicon-chevron-right\" aria-hidden=\"true\"></span>\n",
    "    <span class=\"sr-only\">Next</span>\n",
    "  </a>\n",
    "</div>"
   ]
  },
  {
   "cell_type": "markdown",
   "metadata": {},
   "source": [
    "<!DOCTYPE html>\n",
    "<html lang=\"en\">\n",
    "<head>\n",
    "  <!-- Theme Made By www.w3schools.com - No Copyright -->\n",
    "  <title>Bootstrap Theme Company Page</title>\n",
    "  <meta charset=\"utf-8\">\n",
    "  <meta name=\"viewport\" content=\"width=device-width, initial-scale=1\">\n",
    "  <link rel=\"stylesheet\" href=\"https://maxcdn.bootstrapcdn.com/bootstrap/3.4.1/css/bootstrap.min.css\">\n",
    "  <script src=\"https://ajax.googleapis.com/ajax/libs/jquery/3.5.1/jquery.min.js\"></script>\n",
    "  <script src=\"https://maxcdn.bootstrapcdn.com/bootstrap/3.4.1/js/bootstrap.min.js\"></script>\n",
    "  <style>\n",
    "    h1 {text-align: center;}\n",
    "    p {text-align: center;}\n",
    "\n",
    "    </style>\n",
    "</head>\n",
    "<body>\n",
    "\n",
    "<div class=\"jumbotron\">\n",
    "  <h1>Pentagon Space</h1> \n",
    "  <p>Mastering the future</p> \n",
    "</div>\n",
    "\n",
    "</body>\n",
    "</html>\n"
   ]
  },
  {
   "cell_type": "markdown",
   "metadata": {},
   "source": [
    "**Q1.) Print Exact Slice Of String**  \n",
    "You need to take string input and two other numbers which will be the start and end point of the slice and you need to print that slice of string to the stdout.\n",
    "\n",
    "**Input Format**  \n",
    "You will be taking a string as an input from stdin and two integers one on each line.\n",
    "\n",
    "**Constraints**  \n",
    "1 <= |S| <= 10000\n",
    "\n",
    "**Output Format**  \n",
    "You need to print the slice of the string to the stdout.\n",
    "\n",
    "**Sample TestCase 1**\n",
    ">**Input**\n",
    ">> Hello Pentagon  \n",
    ">> 1  \n",
    ">>    \n",
    ">> 4\n",
    "\n",
    ">**Output**  \n",
    ">>ello"
   ]
  },
  {
   "cell_type": "code",
   "execution_count": 14,
   "metadata": {},
   "outputs": [],
   "source": [
    "#write code here"
   ]
  },
  {
   "cell_type": "markdown",
   "metadata": {},
   "source": [
    "**Q2.) Print First Character**  \n",
    "You just need to take string input from stdin and print the first character of the string to the stdout.\n",
    "\n",
    "**Input Format**  \n",
    "You will be taking a string as an input from stdin.\n",
    "\n",
    "**Constraints**  \n",
    "1 <= |S| <= 100000\n",
    "\n",
    "**Output Format**  \n",
    "You need to print the first character of the string to the stdout.  \n",
    "\n",
    "**Sample TestCase 1**  \n",
    ">**Input**\n",
    ">>Hello Pentagone\n",
    "\n",
    ">**Output**\n",
    ">>H"
   ]
  },
  {
   "cell_type": "code",
   "execution_count": 15,
   "metadata": {},
   "outputs": [],
   "source": [
    "#write code here"
   ]
  },
  {
   "cell_type": "markdown",
   "metadata": {},
   "source": [
    "**Q3.) String swap String**  \n",
    "You just need to take string input from STDIN and print the string in which all the case-based characters have had their case swapped.\n",
    "\n",
    "**Input Format**  \n",
    "You will be taking a string as an input from STDIN. \n",
    "\n",
    "**Constraints**  \n",
    "1 <= |S| <= 10^4\n",
    "\n",
    "**Output Format**  \n",
    "You need to print the string to the STDOUT. \n",
    "\n",
    "**Sample TestCase 1** \n",
    ">**Input**  \n",
    ">>Hello pENTAGON sPACE  \n",
    "\n",
    ">**Output**  \n",
    ">>hELLO Pentagon Space"
   ]
  },
  {
   "cell_type": "code",
   "execution_count": 16,
   "metadata": {},
   "outputs": [],
   "source": [
    "#write code here"
   ]
  },
  {
   "cell_type": "markdown",
   "metadata": {},
   "source": [
    "**Q4.) String strip**  \n",
    "You just need to take string input from stdin and print the string in which all whitespaces have been stripped from the end of the string.\n",
    "\n",
    "**Input Format**  \n",
    "You will be taking a string as an input from stdin.\n",
    "\n",
    "**Constraints**  \n",
    "1 <= |S| <= 10000\n",
    "\n",
    "**Output Format**  \n",
    "You need to print the string to the stdout.\n",
    "\n",
    "**Sample TestCase 1** \n",
    ">**Input**  \n",
    ">>        Hello Pentagon Space                  \n",
    "\n",
    ">**Output**  \n",
    ">>Hello Pentagon Space\n"
   ]
  },
  {
   "cell_type": "code",
   "execution_count": 17,
   "metadata": {},
   "outputs": [],
   "source": [
    "#write code here"
   ]
  },
  {
   "cell_type": "markdown",
   "metadata": {},
   "source": [
    "**Q5.) String rstrip**\n",
    "You just need to take string input from stdin and print the string in which all whitespaces have been stripped from the end of the string.\n",
    "\n",
    "**Input Format**  \n",
    "You will be taking a string as an input from STDIN. \n",
    "\n",
    "**Constraints**  \n",
    "1 <= |S| <= 10^4\n",
    "\n",
    "**Output Format**  \n",
    "You need to print the string to the STDOUT. \n",
    "\n",
    "**Sample TestCase 1** \n",
    ">**Input**  \n",
    ">>Hello Pentagon Space                  \n",
    "\n",
    ">**Output**  \n",
    ">>Hello Pentagon Space"
   ]
  },
  {
   "cell_type": "code",
   "execution_count": 18,
   "metadata": {},
   "outputs": [],
   "source": [
    "#write code here"
   ]
  },
  {
   "cell_type": "markdown",
   "metadata": {},
   "source": [
    "**Q6.) String replace**  \n",
    "You just need to take string input from stdin and print the string in which Replace all occurrences of “ABC” with “Pen” in str.\n",
    "\n",
    "**Input Format**  \n",
    "You will be taking a string as an input from STDIN. \n",
    "\n",
    "**Constraints**  \n",
    "1 <= |S| <= 10^4\n",
    "\n",
    "**Output Format**  \n",
    "You need to print the string to the STDOUT. \n",
    "\n",
    "**Sample TestCase 1** \n",
    ">**Input**  \n",
    ">>Hello ABCtagon Space\n",
    "\n",
    ">**Output**  \n",
    ">>Hello Pentagon Space"
   ]
  },
  {
   "cell_type": "code",
   "execution_count": 19,
   "metadata": {},
   "outputs": [],
   "source": [
    "#write code here"
   ]
  },
  {
   "cell_type": "markdown",
   "metadata": {},
   "source": [
    "**Q7.) String max**  \n",
    "You just need to take string input from stdin and print the max alphabetical character from the string.\n",
    "\n",
    "**Input Format**  \n",
    "You will be taking a string as an input from STDIN. \n",
    "\n",
    "**Constraints**  \n",
    "1 <= |S| <= 10^4\n",
    "\n",
    "**Output Format**  \n",
    "You need to print the max alphabetical character from the string to the stdout.\n",
    "\n",
    "**Sample TestCase 1** \n",
    ">**Input**  \n",
    ">>Hello Pentagon Space                  \n",
    "\n",
    ">**Output**  \n",
    ">> t"
   ]
  },
  {
   "cell_type": "code",
   "execution_count": 20,
   "metadata": {},
   "outputs": [],
   "source": [
    "#write code here"
   ]
  },
  {
   "cell_type": "markdown",
   "metadata": {},
   "source": [
    "**Q8.) String min**  \n",
    "You just need to take string input from stdin and print the min alphabetical character from the string.\n",
    "\n",
    "**Input Format**  \n",
    "You will be taking a string as an input from STDIN. \n",
    "\n",
    "**Constraints**  \n",
    "1 <= |S| <= 10^4\n",
    "\n",
    "**Output Format**  \n",
    "You need to print the min alphabetical character from the string to the stdout.\n",
    "\n",
    "**Sample TestCase 1** \n",
    "\n",
    ">**Input**  \n",
    ">>Hello Pentagon Space                  \n",
    "\n",
    ">**Output**  \n",
    ">> P"
   ]
  },
  {
   "cell_type": "code",
   "execution_count": 21,
   "metadata": {},
   "outputs": [],
   "source": [
    "#write code here"
   ]
  },
  {
   "cell_type": "markdown",
   "metadata": {},
   "source": [
    "**Q9.) String lower**  \n",
    "You just need to take string input from stdin and print the string in which all case-based characters have been lowercased.\n",
    "\n",
    "**Input Format**  \n",
    "You will be taking a string as an input from STDIN. \n",
    "\n",
    "**Constraints**  \n",
    "1 <= |S| <= 10^4\n",
    "\n",
    "**Output Format**  \n",
    "You need to print the string to the stdout.\n",
    "\n",
    "**Sample TestCase 1** \n",
    "\n",
    ">**Input**  \n",
    ">>PENTAGON SPACE                 \n",
    "\n",
    ">**Output**  \n",
    ">>pentagon space"
   ]
  },
  {
   "cell_type": "code",
   "execution_count": 22,
   "metadata": {},
   "outputs": [],
   "source": [
    "#write code here"
   ]
  },
  {
   "cell_type": "markdown",
   "metadata": {},
   "source": [
    "**Q10.) String len**  \n",
    "You just need to take string input from stdin and print the length of the string.\n",
    "\n",
    "**Input Format**  \n",
    "You will be taking a string as an input from STDIN. \n",
    "\n",
    "**Constraints**  \n",
    "1 <= |S| <= 10^4\n",
    "\n",
    "**Output Format**  \n",
    "You need to print the length of the string to the stdout.\n",
    "\n",
    "**Sample TestCase 1** \n",
    "\n",
    ">**Input**  \n",
    ">>PENTAGON SPACE                 \n",
    "\n",
    ">**Output**  \n",
    ">>14"
   ]
  },
  {
   "cell_type": "code",
   "execution_count": 23,
   "metadata": {},
   "outputs": [],
   "source": [
    "#write code here"
   ]
  },
  {
   "cell_type": "markdown",
   "metadata": {},
   "source": [
    "**Q11.) String join**   \n",
    "You just need to take string input from stdin and bunch from strings one on each line and you need to concatenate them as shown in the sample.\n",
    "\n",
    "**Input Format**  \n",
    "You will be taking strings as an input from stdin one on each line respectively. \n",
    "\n",
    "**Constraints**  \n",
    "1 <= |S| <= 10^4\n",
    "\n",
    "**Output Format**  \n",
    "You need to print the string after concatenation to the stdout.\n",
    "\n",
    "**Sample TestCase 1** \n",
    "\n",
    "**Input**  \n",
    ">_  \n",
    "<br>\n",
    ">a \n",
    "<br>\n",
    ">b  \n",
    ">c  \n",
    "<br>\n",
    "\n",
    "**Output**  \n",
    ">a_b_c"
   ]
  },
  {
   "cell_type": "code",
   "execution_count": 24,
   "metadata": {},
   "outputs": [],
   "source": [
    "#write code here"
   ]
  },
  {
   "cell_type": "markdown",
   "metadata": {},
   "source": [
    "**Q12.) String isupper**  \n",
    "You just need to take string input from stdin and checks whether all the case-based characters (letters) of the string are uppercase.\n",
    "\n",
    "**Input Format**  \n",
    "You will be taking strings as an input from stdin one on each line respectively. \n",
    "\n",
    "**Constraints**  \n",
    "1 <= |S| <= 10^4\n",
    "\n",
    "**Output Format**  \n",
    "You need to print the boolean value(either True or False) to the stdout.\n",
    "\n",
    "**Sample TestCase 1** \n",
    "\n",
    "**Input**  \n",
    ">This Is String Example\n",
    "\n",
    "**Output**  \n",
    ">False"
   ]
  },
  {
   "cell_type": "code",
   "execution_count": 25,
   "metadata": {},
   "outputs": [],
   "source": [
    "#write code here"
   ]
  },
  {
   "cell_type": "markdown",
   "metadata": {},
   "source": [
    "**Q13.) String istitle**  \n",
    "You just need to take string input from stdin and checks whether all the case-based characters in the string following non-casebased letters. Non-casebased letters are uppercase and all other case-based characters are lowercase.\n",
    "\n",
    "**Input Format**  \n",
    "You will be taking strings as an input from stdin one on each line respectively. \n",
    "\n",
    "**Constraints**  \n",
    "1 <= |S| <= 10^4\n",
    "\n",
    "**Output Format**  \n",
    "You need to print the boolean value(either True or False) to the stdout.\n",
    "\n",
    "**Sample TestCase 1** \n",
    "\n",
    "**Input**  \n",
    ">This Is String Example\n",
    "\n",
    "**Output**  \n",
    ">True"
   ]
  },
  {
   "cell_type": "code",
   "execution_count": 26,
   "metadata": {},
   "outputs": [],
   "source": [
    "#write code here"
   ]
  },
  {
   "cell_type": "markdown",
   "metadata": {},
   "source": [
    "**Q14.) String isnumeric**  \n",
    "You just need to take string input from stdin and checks whether the string consists of only numeric characters. This method is present only on Unicode objects.\n",
    "\n",
    "**Input Format**  \n",
    "You will be taking strings as an input from stdin one on each line respectively. \n",
    "\n",
    "**Constraints**  \n",
    "1 <= |S| <= 10^4\n",
    "\n",
    "**Output Format**  \n",
    "You need to print the boolean value(either True or False) to the stdout.\n",
    "\n",
    "**Sample TestCase 1** \n",
    "\n",
    "**Input**  \n",
    ">this20008\n",
    "\n",
    "**Output**  \n",
    ">False"
   ]
  },
  {
   "cell_type": "code",
   "execution_count": 27,
   "metadata": {},
   "outputs": [],
   "source": [
    "#write code here"
   ]
  },
  {
   "cell_type": "markdown",
   "metadata": {},
   "source": [
    "**Q15.) String isdigit**  \n",
    "You just need to take string input from stdin and checks whether the string consists of digits only.\n",
    "\n",
    "**Input Format**  \n",
    "You will be taking strings as an input from stdin one on each line respectively. \n",
    "\n",
    "**Constraints**  \n",
    "1 <= |S| <= 10^4\n",
    "\n",
    "**Output Format**  \n",
    "You need to print the boolean value(either True or False) to the stdout.\n",
    "\n",
    "**Sample TestCase 1** \n",
    "\n",
    "**Input**  \n",
    ">this2009\n",
    "\n",
    "**Output**  \n",
    ">False"
   ]
  },
  {
   "cell_type": "code",
   "execution_count": 28,
   "metadata": {},
   "outputs": [],
   "source": [
    "#write code here"
   ]
  },
  {
   "cell_type": "markdown",
   "metadata": {},
   "source": [
    "**Q16.) String Repetition**  \n",
    "You just need to take a string and a integer as an input from stdin and repeat the string upto the count given as in integer.\n",
    "\n",
    "**Input Format**  \n",
    "You will be taking strings as an input from stdin one on each line respectively. \n",
    "\n",
    "**Constraints**  \n",
    "1 <= |S| < =10000\n",
    "1 <= N <= 1000\n",
    "\n",
    "**Output Format**  \n",
    "You need to print the string to the stdout.\n",
    "\n",
    "**Sample TestCase 1** \n",
    "\n",
    "**Input**  \n",
    ">Hello Python  \n",
    ">2\n",
    "\n",
    "**Output**  \n",
    ">Hello PythonHello Python"
   ]
  },
  {
   "cell_type": "code",
   "execution_count": 29,
   "metadata": {},
   "outputs": [],
   "source": [
    "#write code here"
   ]
  },
  {
   "cell_type": "markdown",
   "metadata": {},
   "source": [
    "**Q17.) String Concatenation**  \n",
    "You just need to take two strings as input from stdin and concatenate them and print the concatenated string to the stdout.\n",
    "\n",
    "**Input Format**  \n",
    "You will be taking two strings as an input from stdin one on each line respectively.\n",
    "\n",
    "**Constraints**  \n",
    "1 <= |S| < =10000\n",
    "1 <= N <= 1000\n",
    "\n",
    "**Output Format**  \n",
    "You need to print the concatenated string to the stdout.\n",
    "\n",
    "**Sample TestCase 1** \n",
    "\n",
    "**Input**  \n",
    ">Hello  \n",
    ">Pentagon Space\n",
    "\n",
    "**Output**  \n",
    ">Hello Pentagon Space"
   ]
  },
  {
   "cell_type": "code",
   "execution_count": 30,
   "metadata": {},
   "outputs": [],
   "source": [
    "#write code here"
   ]
  }
 ],
 "metadata": {
  "kernelspec": {
   "display_name": "Python 3",
   "language": "python",
   "name": "python3"
  },
  "language_info": {
   "codemirror_mode": {
    "name": "ipython",
    "version": 3
   },
   "file_extension": ".py",
   "mimetype": "text/x-python",
   "name": "python",
   "nbconvert_exporter": "python",
   "pygments_lexer": "ipython3",
   "version": "3.7.4"
  }
 },
 "nbformat": 4,
 "nbformat_minor": 4
}
